{
 "cells": [
  {
   "cell_type": "markdown",
   "metadata": {},
   "source": [
    "# A quickstart for Mitsuba building blocks"
   ]
  },
  {
   "cell_type": "code",
   "execution_count": 1,
   "metadata": {},
   "outputs": [],
   "source": [
    "import drjit as dr\n",
    "import mitsuba as mi"
   ]
  },
  {
   "cell_type": "markdown",
   "metadata": {},
   "source": [
    "## 1. Random number generator: `mi.Sampler` class\n",
    "A `mi.Sampler` instance can be easily understood as a random number generator.\n",
    "`sampler.next_1d()` is similar to `np.random.rand()`, and `sampler.next_2d()` is similar to `np.random.rand(2)`, when `sampler` is an instance of `mi.Sampler` class.\n",
    "\n",
    "Note that the resulting array shape for `sampler.next_1d()` and `sampler.next_2d()` are slightly depends on whether the Mitsuba variant is scalar or vectorized (CUDA or LLVM)."
   ]
  },
  {
   "cell_type": "code",
   "execution_count": 2,
   "metadata": {},
   "outputs": [
    {
     "name": "stdout",
     "output_type": "stream",
     "text": [
      "#---------- scalar_rgb ----------\n",
      "type(sampler) = <class 'mitsuba.scalar_rgb.Sampler'>\n",
      "IndependentSampler[\n",
      "  base_seed = 0\n",
      "  sample_count = 4\n",
      "  samples_per_wavefront = 1\n",
      "  wavefront_size = 0\n",
      "]\n",
      "sampler.next_1d() = 0.10837864875793457 : <class 'float'>\n",
      "sampler.next_2d() = [0.9069600105285645, 0.4066922664642334] : <class 'mitsuba.scalar_rgb.Point2f'>\n",
      "\n",
      "#---------- cuda_ad_rgb ----------\n",
      "type(sampler) = <class 'mitsuba.cuda_ad_rgb.Sampler'>\n",
      "IndependentSampler[\n",
      "  base_seed = 0\n",
      "  sample_count = 4\n",
      "  samples_per_wavefront = 1\n",
      "  wavefront_size = 0\n",
      "]\n",
      "sampler.next_1d() = [0.10837864875793457] : <class 'drjit.cuda.ad.Float'>\n",
      "sampler.next_2d() = [[0.9069600105285645, 0.4066922664642334]] : <class 'mitsuba.cuda_ad_rgb.Point2f'>\n"
     ]
    }
   ],
   "source": [
    "def test_sampler():\n",
    "    sampler = mi.load_dict({'type': 'independent'})\n",
    "    print(f\"{type(sampler) = }\")\n",
    "    assert isinstance(sampler, mi.Sampler)\n",
    "    print(sampler) # This shows some attributes for `sampler`,\n",
    "                # but we have not to care about any of them now.\n",
    "\n",
    "    val = sampler.next_1d()\n",
    "    assert isinstance(val, mi.Float)\n",
    "    print(f\"sampler.next_1d() = {val} : {type(val)}\")\n",
    "    val = sampler.next_2d()\n",
    "    assert isinstance(val, mi.Point2f)\n",
    "    print(f\"sampler.next_2d() = {val} : {type(val)}\")\n",
    "\n",
    "mi.set_variant('scalar_rgb')\n",
    "print(f\"#---------- {mi.variant()} ----------\")\n",
    "test_sampler()\n",
    "\n",
    "mi.set_variant('cuda_ad_rgb', 'llvm_ad_rgb')\n",
    "print(f\"\\n#---------- {mi.variant()} ----------\")\n",
    "test_sampler()"
   ]
  },
  {
   "cell_type": "markdown",
   "metadata": {},
   "source": [
    "Note that common research-oriented renderers including Mitsuba uses the deterministic pseudo-random number generator PCG32. Thus, the same seed and the number of call of `next_1d()` and `next_2d()` yields the same results.\n",
    "\n",
    "See more:\n",
    "* https://www.pcg-random.org/index.html\n",
    "\n",
    "We first test it for a scalar variant of Mitsuba 3"
   ]
  },
  {
   "cell_type": "code",
   "execution_count": 3,
   "metadata": {},
   "outputs": [
    {
     "name": "stdout",
     "output_type": "stream",
     "text": [
      "\n",
      "The seed has been set to be 1.\n",
      "sampler.next_1d() = 0.9390237331390381\n",
      "sampler.next_1d() = 0.6919573545455933\n",
      "sampler.next_1d() = 0.9697715044021606\n",
      "\n",
      "The seed has been set to be 1.\n",
      "sampler.next_1d() = 0.9390237331390381\n",
      "sampler.next_1d() = 0.6919573545455933\n",
      "sampler.next_1d() = 0.9697715044021606\n"
     ]
    }
   ],
   "source": [
    "mi.set_variant('scalar_rgb')\n",
    "sampler = mi.load_dict({'type': 'independent'})\n",
    "\n",
    "sampler.seed(1)\n",
    "print(\"\\nThe seed has been set to be 1.\")\n",
    "print(f\"{sampler.next_1d() = }\")\n",
    "print(f\"{sampler.next_1d() = }\")\n",
    "print(f\"{sampler.next_1d() = }\")\n",
    "\n",
    "sampler.seed(1)\n",
    "print(\"\\nThe seed has been set to be 1.\")\n",
    "print(f\"{sampler.next_1d() = }\")\n",
    "print(f\"{sampler.next_1d() = }\")\n",
    "print(f\"{sampler.next_1d() = }\")"
   ]
  },
  {
   "cell_type": "markdown",
   "metadata": {},
   "source": [
    "For vectorized varitans in Mitsuba 3, we should specify a parameter `wavefront_size` to call `sampler.seed()`, which indicates the amount of vectorized data."
   ]
  },
  {
   "cell_type": "code",
   "execution_count": 4,
   "metadata": {},
   "outputs": [
    {
     "name": "stdout",
     "output_type": "stream",
     "text": [
      "[ERROR OCCURED!]\n",
      "​[Sampler] Sampler::seed(): wavefront_size should be specified!\n"
     ]
    }
   ],
   "source": [
    "mi.set_variant('cuda_ad_rgb', 'llvm_ad_rgb')\n",
    "sampler = mi.load_dict({'type': 'independent'})\n",
    "\n",
    "try:\n",
    "    sampler.seed(1)\n",
    "except RuntimeError as e:\n",
    "    print(\"[ERROR OCCURED!]\")\n",
    "    print(e)"
   ]
  },
  {
   "cell_type": "code",
   "execution_count": 5,
   "metadata": {},
   "outputs": [
    {
     "name": "stdout",
     "output_type": "stream",
     "text": [
      "\n",
      "The seed has been set to be 1.\n",
      "sampler.next_1d() = [0.018652796745300293]\n",
      "sampler.next_1d() = [0.5851906538009644]\n",
      "sampler.next_1d() = [0.1382601261138916]\n",
      "\n",
      "The seed has been set to be 1.\n",
      "sampler.next_1d() = [0.018652796745300293, 0.9583619832992554, 0.7816940546035767, 0.8544584512710571]\n",
      "sampler.next_1d() = [0.5851906538009644, 0.790186882019043, 0.670819878578186, 0.8393208980560303]\n",
      "sampler.next_1d() = [0.1382601261138916, 0.8022022247314453, 0.23776817321777344, 0.9748337268829346]\n",
      "sampler.next_2d() = [[0.294366717338562, 0.48410141468048096],\n",
      " [0.6647706031799316, 0.679118275642395],\n",
      " [0.6573762893676758, 0.7043564319610596],\n",
      " [0.011754870414733887, 0.20392751693725586]]\n"
     ]
    }
   ],
   "source": [
    "sampler.seed(1, 1)\n",
    "print(\"\\nThe seed has been set to be 1.\")\n",
    "print(f\"{sampler.next_1d() = }\")\n",
    "print(f\"{sampler.next_1d() = }\")\n",
    "print(f\"{sampler.next_1d() = }\")\n",
    "\n",
    "sampler.seed(1, 4)\n",
    "print(\"\\nThe seed has been set to be 1.\")\n",
    "print(f\"{sampler.next_1d() = }\")\n",
    "print(f\"{sampler.next_1d() = }\")\n",
    "print(f\"{sampler.next_1d() = }\")\n",
    "print(f\"{sampler.next_2d() = }\")"
   ]
  }
 ],
 "metadata": {
  "kernelspec": {
   "display_name": "polarsh",
   "language": "python",
   "name": "python3"
  },
  "language_info": {
   "codemirror_mode": {
    "name": "ipython",
    "version": 3
   },
   "file_extension": ".py",
   "mimetype": "text/x-python",
   "name": "python",
   "nbconvert_exporter": "python",
   "pygments_lexer": "ipython3",
   "version": "3.11.9"
  }
 },
 "nbformat": 4,
 "nbformat_minor": 2
}
